{
 "cells": [
  {
   "cell_type": "markdown",
   "metadata": {},
   "source": [
    ".\n",
    ".\n",
    "\n",
    ".\n",
    ".\n",
    "\n",
    ".\n",
    "\n",
    ".\n",
    ".\n",
    "\n",
    ".\n",
    ".\n",
    "\n",
    ".\n",
    ".\n",
    "\n",
    ".\n",
    ".\n",
    ".\n",
    ".\n",
    ".\n",
    "\n",
    ".\n",
    ".\n",
    "\n",
    "# Calculate distance to nearest stream and give streamnetwork coordinates of nearest stream\n",
    "\n",
    "With this code the distance from a potential reservoir location to the nearest stream is calculated. This model is developped for the project \"Water Efficiency in Sustainable Cotton-based production systems in Maharashtra, India\" carried out by Solidaridad. \n",
    "\n",
    "For this code several datasets regarding the streamnetwork of a region are necessary. These files are provided to Solidaridad as well and can be found on [add link].\n",
    "\n",
    "! Make sure the latitude longitude coordinates are in decimals and not DMS or GPS coordinates !"
   ]
  },
  {
   "cell_type": "code",
   "execution_count": null,
   "metadata": {},
   "outputs": [],
   "source": [
    "import numpy as np\n",
    "import pandas as pd"
   ]
  },
  {
   "cell_type": "markdown",
   "metadata": {},
   "source": [
    "## Step 1 - choose region\n",
    "First choose the region in which the potential reservoir is located. To activate the file, remove the # in front of the streamnetwork of the area. \n",
    "\n",
    "For example: if the potential location is in Yavatmal, the code is first:\n",
    "\n",
    "<code> #streamnetwork = pd.read_csv(\"Streampoints_Yavatmal.csv\", header=0)     #Yavatmal </code>\n",
    "\n",
    "\n",
    "\n",
    "To activate it remove only the first #:\n",
    "\n",
    "<code> streamnetwork = pd.read_csv(\"Streampoints_Yavatmal.csv\", header=0)     #Yavatmal </code>"
   ]
  },
  {
   "cell_type": "code",
   "execution_count": null,
   "metadata": {},
   "outputs": [],
   "source": [
    "# streamnetwork = pd.read_csv(\"Streampoints_Wardha.csv\", header=0)         #Wardha\n",
    "# streamnetwork = pd.read_csv(\"Streampoints_Nagpur.csv\", header=0)       #Nagpur\n",
    "# streamnetwork = pd.read_csv(\"Streampoints_Yavatmal.csv\", header=0)     #Yavatmal\n",
    "# streamnetwork = pd.read_csv(\"Streampoints_Amravati.csv\", header=0)    #Amravati"
   ]
  },
  {
   "cell_type": "code",
   "execution_count": null,
   "metadata": {},
   "outputs": [],
   "source": [
    "reservoir = pd.DataFrame(columns=['latitude', 'longitude'])"
   ]
  },
  {
   "cell_type": "markdown",
   "metadata": {},
   "source": [
    "## Step 2 - add potential locations coordinates\n",
    "Here add the latitude (x coordinate) and the longitude (y coordinate) to the model. \n",
    "\n",
    "For example:\n",
    "\n",
    "<code> reservoir.loc[0] =  [78.612563,             #x/latitude coordinate\n",
    "                      20.554911]             #y/longitude coordinate\n",
    "</code>\n",
    "\n",
    "!Make sure to use a . and not a , as decimal separator!"
   ]
  },
  {
   "cell_type": "code",
   "execution_count": null,
   "metadata": {},
   "outputs": [],
   "source": [
    "reservoir.loc[0] =  [latitude,             #x/latitude coordinate\n",
    "                     longitude]             #y/longitude coordinate"
   ]
  },
  {
   "cell_type": "markdown",
   "metadata": {},
   "source": [
    "## Step 3 - Run the model\n",
    "Do not change anything in this step. In the code below the model calculates the distance to the nearest stream."
   ]
  },
  {
   "cell_type": "code",
   "execution_count": null,
   "metadata": {},
   "outputs": [],
   "source": [
    "reservoir['Dist[m]'] = np.zeros(len(reservoir))\n",
    "reservoir['latitude stream'] = np.zeros(len(reservoir))\n",
    "reservoir['longitude stream'] = np.zeros(len(reservoir))\n",
    "\n",
    "for i in range(len(reservoir)):\n",
    "    #Finding closest coordinate for irrigation reservoirs\n",
    "    DisMat = np.sqrt((reservoir['longitude'][i] - streamnetwork[\"ycoord\"])**2 + \n",
    "                     (reservoir['latitude'][i] - streamnetwork[\"xcoord\"])**2)\n",
    "    #finding index of min distance\n",
    "    res_i = DisMat.idxmin()\n",
    "    #finding coord of min distance\n",
    "    DistPond=DisMat[res_i]*105000 #degrees to m around lat ~20 degrees north\n",
    "     \n",
    "    reservoir['Dist[m]'][i]=DistPond      #in m \n",
    "    reservoir['latitude stream'][i] = streamnetwork[\"xcoord\"][i] #latitude coordinate of closest streamnetwork\n",
    "    reservoir['longitude stream'][i] = streamnetwork[\"ycoord\"][i] #longitude coordinate of closest streamnetwork"
   ]
  },
  {
   "cell_type": "markdown",
   "metadata": {},
   "source": [
    "## Step 4 - Show output\n",
    "This last step shows the model output. This output includes the coordinates of the potential location, distance to nearest stream and coordinates of the nearest stream. "
   ]
  },
  {
   "cell_type": "code",
   "execution_count": null,
   "metadata": {},
   "outputs": [],
   "source": [
    "reservoir"
   ]
  },
  {
   "cell_type": "markdown",
   "metadata": {},
   "source": [
    "## Step 5 - Optional \n",
    "Export the file to your own computer. This step is optional, but useful if you want to store the data. \n",
    "\n",
    "You can change the name of your file to anything in between the <code>' '</code> as long as you put .csv behind it (the name including .csv should turn red, make sure it is between <code>' '</code>). Do not change <code>, index = False, header=True </code>. \n",
    "\n",
    "The file will be stored in the folder where the code is stored. "
   ]
  },
  {
   "cell_type": "code",
   "execution_count": null,
   "metadata": {},
   "outputs": [],
   "source": [
    "reservoir.to_csv ('potential reservoir data.csv', index = False, header=True)"
   ]
  },
  {
   "cell_type": "markdown",
   "metadata": {},
   "source": [
    "## Step 6\n",
    "Set the model back to its original values in step 1 and step 2 for the next user. "
   ]
  }
 ],
 "metadata": {
  "kernelspec": {
   "display_name": "Python 3",
   "language": "python",
   "name": "python3"
  },
  "language_info": {
   "codemirror_mode": {
    "name": "ipython",
    "version": 3
   },
   "file_extension": ".py",
   "mimetype": "text/x-python",
   "name": "python",
   "nbconvert_exporter": "python",
   "pygments_lexer": "ipython3",
   "version": "3.7.4"
  }
 },
 "nbformat": 4,
 "nbformat_minor": 2
}
